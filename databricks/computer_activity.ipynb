{
 "cells": [
  {
   "cell_type": "markdown",
   "metadata": {
    "application/vnd.databricks.v1+cell": {
     "cellMetadata": {},
     "inputWidgets": {},
     "nuid": "fa78404b-8eb8-452d-970a-5d69631c02fe",
     "showTitle": false,
     "tableResultSettingsMap": {},
     "title": ""
    }
   },
   "source": [
    "## Import Libraries and Start Spark Session"
   ]
  },
  {
   "cell_type": "code",
   "execution_count": 0,
   "metadata": {
    "application/vnd.databricks.v1+cell": {
     "cellMetadata": {
      "byteLimit": 2048000,
      "rowLimit": 10000
     },
     "inputWidgets": {},
     "nuid": "22611f8a-c63b-4551-afe4-6e516500626c",
     "showTitle": false,
     "tableResultSettingsMap": {},
     "title": ""
    }
   },
   "outputs": [],
   "source": [
    "from pyspark.sql import SparkSession, DataFrame, functions as F\n",
    "from pyspark.sql.window import Window\n",
    "from pyspark.sql.functions import col, year, month, dayofmonth, hour, rand, from_unixtime, date_format, floor, expr\n",
    "from pyspark.sql.types import DoubleType\n",
    "from functools import reduce\n",
    "import math"
   ]
  },
  {
   "cell_type": "markdown",
   "metadata": {
    "application/vnd.databricks.v1+cell": {
     "cellMetadata": {},
     "inputWidgets": {},
     "nuid": "f755e227-314a-465f-87f0-3880402e4ad4",
     "showTitle": false,
     "tableResultSettingsMap": {},
     "title": ""
    }
   },
   "source": [
    "### Read data from S3 bucket and extract the year, month, day and hour"
   ]
  },
  {
   "cell_type": "code",
   "execution_count": 0,
   "metadata": {
    "application/vnd.databricks.v1+cell": {
     "cellMetadata": {
      "byteLimit": 2048000,
      "rowLimit": 10000
     },
     "inputWidgets": {},
     "nuid": "ad5ba42d-b729-409c-bf6f-2b9dde9b3c20",
     "showTitle": false,
     "tableResultSettingsMap": {},
     "title": ""
    }
   },
   "outputs": [],
   "source": [
    "# Adjust the S3 path to match the root of your partitioned data\n",
    "s3_path = \"s3a://computeractivity/\"\n",
    "\n",
    "app_change = spark.read.option(\"basePath\", s3_path).json(s3_path + \"activity_type=app_change/year=*/month=*/day=*/hour=*\")\n",
    "idle_time = spark.read.option(\"basePath\", s3_path).json(s3_path + \"activity_type=idle_time/year=*/month=*/day=*/hour=*\")\n",
    "mouse_click = spark.read.option(\"basePath\", s3_path).json(s3_path + \"activity_type=mouse_click/year=*/month=*/day=*/hour=*\")\n",
    "mouse_movement = spark.read.option(\"basePath\", s3_path).json(s3_path + \"activity_type=mouse_movement/year=*/month=*/day=*/hour=*\")\n",
    "word_completed = spark.read.option(\"basePath\", s3_path).json(s3_path + \"activity_type=word_completed/year=*/month=*/day=*/hour=*\")\n"
   ]
  },
  {
   "cell_type": "code",
   "execution_count": 0,
   "metadata": {
    "application/vnd.databricks.v1+cell": {
     "cellMetadata": {
      "byteLimit": 2048000,
      "rowLimit": 10000
     },
     "inputWidgets": {},
     "nuid": "c6ec33de-2303-41a4-be74-ff4eb69c9c40",
     "showTitle": false,
     "tableResultSettingsMap": {},
     "title": ""
    }
   },
   "outputs": [],
   "source": [
    "mouse_click = mouse_click.withColumn(\"minute\", date_format(from_unixtime(col(\"timestamp\")), \"mm\"))\n",
    "mouse_movement = mouse_movement.withColumn(\"minute\", date_format(from_unixtime(col(\"timestamp\")), \"mm\"))\n",
    "\n",
    "mouse_click = mouse_click.withColumn(\"timestamp\", date_format(from_unixtime(col(\"timestamp\")), \"yyyy-MM-dd'T'HH:mm:ss.SSSSSS\"))\n",
    "mouse_movement= mouse_movement.withColumn(\"timestamp\", date_format(from_unixtime(col(\"timestamp\")), \"yyyy-MM-dd'T'HH:mm:ss.SSSSSS\"))"
   ]
  },
  {
   "cell_type": "code",
   "execution_count": 0,
   "metadata": {
    "application/vnd.databricks.v1+cell": {
     "cellMetadata": {
      "byteLimit": 2048000,
      "rowLimit": 10000
     },
     "inputWidgets": {},
     "nuid": "347578f4-1d4a-457b-8c83-54c7d5a71e06",
     "showTitle": false,
     "tableResultSettingsMap": {},
     "title": ""
    }
   },
   "outputs": [],
   "source": [
    "app_change.show(truncate=False)"
   ]
  },
  {
   "cell_type": "markdown",
   "metadata": {
    "application/vnd.databricks.v1+cell": {
     "cellMetadata": {},
     "inputWidgets": {},
     "nuid": "43e316f2-a1cf-4ab2-abd5-b5a475a9d127",
     "showTitle": false,
     "tableResultSettingsMap": {},
     "title": ""
    }
   },
   "source": [
    "### Create an App Change dataframe of just the app change movements"
   ]
  },
  {
   "cell_type": "code",
   "execution_count": 0,
   "metadata": {
    "application/vnd.databricks.v1+cell": {
     "cellMetadata": {
      "byteLimit": 2048000,
      "rowLimit": 10000
     },
     "inputWidgets": {},
     "nuid": "576cffea-c9a8-4310-a419-34b404e96287",
     "showTitle": false,
     "tableResultSettingsMap": {},
     "title": ""
    }
   },
   "outputs": [],
   "source": [
    "app_counts = app_change.groupBy(\"app_name\").count()\n",
    "app_counts.show()"
   ]
  },
  {
   "cell_type": "code",
   "execution_count": 0,
   "metadata": {
    "application/vnd.databricks.v1+cell": {
     "cellMetadata": {
      "byteLimit": 2048000,
      "rowLimit": 10000
     },
     "inputWidgets": {},
     "nuid": "3cee4b0f-9860-4aa9-b954-07113ef25511",
     "showTitle": false,
     "tableResultSettingsMap": {},
     "title": ""
    }
   },
   "outputs": [],
   "source": [
    "words_by_date = word_completed.groupBy(\"year\", \"month\", \"day\", \"hour\", \"minute\").agg(\n",
    "    F.count(\"*\").alias(\"words_typed\"),\n",
    "    F.avg(\"word_length\").alias(\"avg_word_length\")\n",
    ")\n",
    "words_by_date.show()"
   ]
  },
  {
   "cell_type": "markdown",
   "metadata": {
    "application/vnd.databricks.v1+cell": {
     "cellMetadata": {},
     "inputWidgets": {},
     "nuid": "133b8e88-3ce6-49d5-9867-954067209855",
     "showTitle": false,
     "tableResultSettingsMap": {},
     "title": ""
    }
   },
   "source": [
    "## Calculate the Distance and Angle of the mouse movements "
   ]
  },
  {
   "cell_type": "code",
   "execution_count": 0,
   "metadata": {
    "application/vnd.databricks.v1+cell": {
     "cellMetadata": {
      "byteLimit": 2048000,
      "rowLimit": 10000
     },
     "inputWidgets": {},
     "nuid": "04118488-3fd3-4cb9-bf1c-05d052ac74c2",
     "showTitle": false,
     "tableResultSettingsMap": {},
     "title": ""
    }
   },
   "outputs": [],
   "source": [
    "# Angle threshold for detecting direction changes\n",
    "ANGLE_CHANGE_THRESHOLD = 70  # Degrees\n",
    "MIN_DISTANCE_THRESHOLD = 50  # Minimum distance to consider as movement\n",
    "\n",
    "# Calculate distance traveled for each row\n",
    "def calculate_distance(x1, y1, x2, y2):\n",
    "    if x1 is None or y1 is None or x2 is None or y2 is None:\n",
    "        return 0.0\n",
    "    return math.sqrt((x2 - x1)**2 + (y2 - y1)**2)\n",
    "\n",
    "def calculate_angle(x1, y1, x2, y2, x3, y3):\n",
    "    if None in (x1, y1, x2, y2, x3, y3):\n",
    "        return 0.0\n",
    "    # Vectors (x1, y1) -> (x2, y2) and (x2, y2) -> (x3, y3)\n",
    "    v1x, v1y = x2 - x1, y2 - y1\n",
    "    v2x, v2y = x3 - x2, y3 - y2\n",
    "    # Calculate magnitudes\n",
    "    mag1 = math.sqrt(v1x**2 + v1y**2)\n",
    "    mag2 = math.sqrt(v2x**2 + v2y**2)\n",
    "    if mag1 < MIN_DISTANCE_THRESHOLD or mag2 < MIN_DISTANCE_THRESHOLD:\n",
    "        return 0.0  # Ignore small movements\n",
    "    # Calculate the cosine of the angle\n",
    "    dot_product = v1x * v2x + v1y * v2y\n",
    "    cos_theta = dot_product / (mag1 * mag2)\n",
    "    # Clamp cos_theta to avoid domain errors\n",
    "    cos_theta = max(-1, min(1, cos_theta))\n",
    "    # Convert to angle in degrees\n",
    "    angle = math.degrees(math.acos(cos_theta))\n",
    "    return angle\n",
    "\n",
    "# UDF to calculate distance\n",
    "distance_udf = F.udf(calculate_distance, DoubleType())\n",
    "# UDF for angle calculation\n",
    "angle_udf = F.udf(calculate_angle, DoubleType())\n",
    "\n",
    "# Lag to get previous coordinates\n",
    "window_spec = Window.partitionBy(\"year\", \"month\", \"day\", \"hour\", \"minute\").orderBy(\"timestamp\")\n",
    "mouse_movement = mouse_movement.withColumn(\"x_prev\", F.lag(\"x\", 1).over(window_spec))\n",
    "mouse_movement = mouse_movement.withColumn(\"y_prev\", F.lag(\"y\", 1).over(window_spec))\n",
    "mouse_movement = mouse_movement.withColumn(\"x_next\", F.lead(\"x\", 1).over(window_spec))\n",
    "mouse_movement = mouse_movement.withColumn(\"y_next\", F.lead(\"y\", 1).over(window_spec))\n",
    "\n",
    "mouse_movement = mouse_movement.withColumn(\"distance\", distance_udf(\"x\", \"y\", \"x_prev\", \"y_prev\"))\n",
    "mouse_movement = mouse_movement.withColumn(\"angle\", angle_udf(\"x_prev\", \"y_prev\", \"x\", \"y\", \"x_next\", \"y_next\"))\n",
    "\n",
    "# Calculate direction changes by comparing consecutive angles\n",
    "mouse_movement = mouse_movement.withColumn(\"angle_prev\", F.lag(\"angle\").over(window_spec))\n",
    "\n",
    "# Detect direction change based on angle exceeding threshold\n",
    "mouse_movement = mouse_movement.withColumn(\"direction_change\", F.when(F.col(\"angle\") > ANGLE_CHANGE_THRESHOLD, 1).otherwise(0))"
   ]
  },
  {
   "cell_type": "markdown",
   "metadata": {
    "application/vnd.databricks.v1+cell": {
     "cellMetadata": {},
     "inputWidgets": {},
     "nuid": "ab0d787a-8aa2-4778-b965-032a9e288326",
     "showTitle": false,
     "tableResultSettingsMap": {},
     "title": ""
    }
   },
   "source": [
    "# Aggregation to calculate total distance and direction changes by minute"
   ]
  },
  {
   "cell_type": "code",
   "execution_count": 0,
   "metadata": {
    "application/vnd.databricks.v1+cell": {
     "cellMetadata": {
      "byteLimit": 2048000,
      "rowLimit": 10000
     },
     "inputWidgets": {},
     "nuid": "d48569d7-6a28-439b-8c11-317ff059308c",
     "showTitle": false,
     "tableResultSettingsMap": {},
     "title": ""
    }
   },
   "outputs": [],
   "source": [
    "result = mouse_movement.groupBy(\"year\", \"month\", \"day\", \"hour\", \"minute\").agg(\n",
    "    F.sum(\"distance\").alias(\"total_distance\"),\n",
    "    F.sum(\"direction_change\").alias(\"direction_changes\"),\n",
    "    F.sum(F.when(F.col(\"activity_type\") == \"word_completed\",1).otherwise(0)).alias(\"total_words\"),\n",
    "    F.avg(F.when(F.col(\"activity_type\") == \"word_completed\",F.col(\"word_length\")).otherwise(None)).alias(\"avg_word_length\"),\n",
    "    F.sum(F.when(F.col(\"activity_type\") == \"mouse_click\", 1).otherwise(0)).alias(\"clicks_count\")\n",
    ")\n",
    "\n",
    "result = result.withColumn(\n",
    "                \"date\",\n",
    "                F.to_date(F.concat(F.col('year'), F.lit('-'), F.col('month'), F.lit('-'), F.col('day')), \"yyyy-MM-dd\")\n",
    ")\n",
    "\n",
    "result.show()\n",
    "\n",
    "print(f'Number of rows in groupby = {result.count()}')"
   ]
  },
  {
   "cell_type": "markdown",
   "metadata": {
    "application/vnd.databricks.v1+cell": {
     "cellMetadata": {},
     "inputWidgets": {},
     "nuid": "beaf92f3-0398-4893-842c-a6edb883575b",
     "showTitle": false,
     "tableResultSettingsMap": {},
     "title": ""
    }
   },
   "source": [
    "## Activity on each app"
   ]
  },
  {
   "cell_type": "markdown",
   "metadata": {
    "application/vnd.databricks.v1+cell": {
     "cellMetadata": {},
     "inputWidgets": {},
     "nuid": "8178d26d-205d-451b-80ad-92c13f2b444c",
     "showTitle": false,
     "tableResultSettingsMap": {},
     "title": ""
    }
   },
   "source": [
    "#### Left join the mouse movements onto the app_change dataset when the mouse movement timestamp is in the range of app_changes"
   ]
  },
  {
   "cell_type": "code",
   "execution_count": 0,
   "metadata": {
    "application/vnd.databricks.v1+cell": {
     "cellMetadata": {
      "byteLimit": 2048000,
      "rowLimit": 10000
     },
     "inputWidgets": {},
     "nuid": "54a62e74-6e73-471d-9d42-be31c0a966b1",
     "showTitle": false,
     "tableResultSettingsMap": {},
     "title": ""
    }
   },
   "outputs": [],
   "source": [
    "app_change = app_change.withColumn(\"timestamp_end\", F.lead(\"timestamp\").over(Window.orderBy('timestamp')))\n",
    "\n",
    "mouse_movement = mouse_movement.alias(\"mouse_movement\")\n",
    "app_change = app_change.alias(\"app_change\")\n",
    "\n",
    "app_change_mouse_movement = app_change.join(mouse_movement,\n",
    "                                             (F.col(\"mouse_movement.timestamp\") >= F.col(\"app_change.timestamp\")) &\n",
    "                                             (F.col(\"mouse_movement.timestamp\") < F.col(\"app_change.timestamp_end\")),\n",
    "                                             how=\"left\")\n"
   ]
  },
  {
   "cell_type": "code",
   "execution_count": 0,
   "metadata": {
    "application/vnd.databricks.v1+cell": {
     "cellMetadata": {
      "byteLimit": 2048000,
      "rowLimit": 10000
     },
     "inputWidgets": {},
     "nuid": "e2e9c49b-9927-4f41-9921-5dbdbd142a65",
     "showTitle": false,
     "tableResultSettingsMap": {},
     "title": ""
    }
   },
   "outputs": [],
   "source": [
    "mouse_movement.printSchema()"
   ]
  },
  {
   "cell_type": "code",
   "execution_count": 0,
   "metadata": {
    "application/vnd.databricks.v1+cell": {
     "cellMetadata": {
      "byteLimit": 2048000,
      "rowLimit": 10000
     },
     "inputWidgets": {},
     "nuid": "b1a1ebba-a209-441e-98b6-634c7a363940",
     "showTitle": false,
     "tableResultSettingsMap": {},
     "title": ""
    }
   },
   "outputs": [],
   "source": [
    "print(f'Number of rows of app_change = {app_change.count()}')\n",
    "print(f'Number of rows of mouse_movements = {mouse_movement.count()}')\n",
    "print(f'Number of rows of app_change_mouse_movements = {app_change_mouse_movement.count()}')"
   ]
  },
  {
   "cell_type": "code",
   "execution_count": 0,
   "metadata": {
    "application/vnd.databricks.v1+cell": {
     "cellMetadata": {
      "byteLimit": 2048000,
      "rowLimit": 10000
     },
     "inputWidgets": {},
     "nuid": "bb1bf31e-2c40-4989-b200-c169289e938a",
     "showTitle": false,
     "tableResultSettingsMap": {},
     "title": ""
    }
   },
   "outputs": [],
   "source": [
    "app_change_mouse_movement.printSchema()"
   ]
  },
  {
   "cell_type": "code",
   "execution_count": 0,
   "metadata": {
    "application/vnd.databricks.v1+cell": {
     "cellMetadata": {
      "byteLimit": 2048000,
      "rowLimit": 10000
     },
     "inputWidgets": {},
     "nuid": "efb58504-6bf4-4481-b758-6d4b848f41ff",
     "showTitle": false,
     "tableResultSettingsMap": {},
     "title": ""
    }
   },
   "outputs": [],
   "source": [
    "app_change_mouse_movement = app_change_mouse_movement.withColumn(\"timestamp_start_unix\", F.unix_timestamp(\"app_change.timestamp\", \"yyyy-MM-dd'T'HH:mm:ss.SSSSSS\"))\n",
    "app_change_mouse_movement = app_change_mouse_movement.withColumn(\"timestamp_end_unix\", F.unix_timestamp(\"app_change.timestamp_end\", \"yyyy-MM-dd'T'HH:mm:ss.SSSSSS\"))\n",
    "\n",
    "app_change_mouse_movement = app_change_mouse_movement.withColumn(\"time_diff_secs\", F.col('timestamp_end_unix') - F.col('timestamp_start_unix'))\n",
    "\n",
    "# If you want the difference in a more readable format, like hours, minutes, etc.\n",
    "app_change_mouse_movement = app_change_mouse_movement.withColumn(\"time_diff_mins\", F.col(\"time_diff_secs\") / 60)  # For minutes\n",
    "app_change_mouse_movement = app_change_mouse_movement.withColumn(\"time_diff_hours\", F.col(\"time_diff_secs\") / 3600)\n",
    "\n",
    "app_change_mouse_movement = app_change_mouse_movement.withColumn(\"timestamp_range\", F.concat(F.col(\"app_change.timestamp\"), F.lit(\" to \"), F.col(\"app_change.timestamp_end\")))"
   ]
  },
  {
   "cell_type": "code",
   "execution_count": 0,
   "metadata": {
    "application/vnd.databricks.v1+cell": {
     "cellMetadata": {
      "byteLimit": 2048000,
      "rowLimit": 10000
     },
     "inputWidgets": {},
     "nuid": "2ad3e584-23f0-429f-93fd-f4567d9a0f33",
     "showTitle": false,
     "tableResultSettingsMap": {},
     "title": ""
    }
   },
   "outputs": [],
   "source": [
    "app_change_mouse_movement.select(\"app_change.app_name\" ,\"timestamp_range\", \"time_diff_secs\", \"time_diff_mins\",\"mouse_movement.timestamp\", \"distance\").show(truncate=False)"
   ]
  },
  {
   "cell_type": "code",
   "execution_count": 0,
   "metadata": {
    "application/vnd.databricks.v1+cell": {
     "cellMetadata": {
      "byteLimit": 2048000,
      "rowLimit": 10000
     },
     "inputWidgets": {},
     "nuid": "21b7dbe5-9f01-42f6-b9b6-22c5ff9ac964",
     "showTitle": false,
     "tableResultSettingsMap": {},
     "title": ""
    }
   },
   "outputs": [],
   "source": [
    "app_change_timeperiod_groupby = app_change_mouse_movement.groupBy(\"app_change.app_name\", \"timestamp_range\").agg(\n",
    "    F.count(\"*\").alias(\"move_count\"),\n",
    "    F.first(\"time_diff_secs\").alias(\"seconds\"),\n",
    "    F.sum(\"distance\").alias(\"total_distance\"),\n",
    "    (F.sum(\"distance\") / F.when(F.first(\"time_diff_secs\") != 0, F.first(\"time_diff_secs\")).otherwise(1)).alias(\"speed\"),\n",
    "    (F.count(\"*\") / F.when(F.first(\"time_diff_secs\") != 0, F.first(\"time_diff_secs\")).otherwise(1)).alias(\"moves_per_sec\")\n",
    ")"
   ]
  },
  {
   "cell_type": "code",
   "execution_count": 0,
   "metadata": {
    "application/vnd.databricks.v1+cell": {
     "cellMetadata": {
      "byteLimit": 2048000,
      "rowLimit": 10000
     },
     "inputWidgets": {},
     "nuid": "63ee6af0-5ea3-40ae-8037-7949c8d1de9d",
     "showTitle": false,
     "tableResultSettingsMap": {},
     "title": ""
    }
   },
   "outputs": [],
   "source": [
    "app_change_timeperiod_groupby.show(truncate=False)"
   ]
  },
  {
   "cell_type": "code",
   "execution_count": 0,
   "metadata": {
    "application/vnd.databricks.v1+cell": {
     "cellMetadata": {
      "byteLimit": 2048000,
      "rowLimit": 10000
     },
     "inputWidgets": {},
     "nuid": "849ab7d5-7061-4042-a4fd-171a64f77fec",
     "showTitle": false,
     "tableResultSettingsMap": {},
     "title": ""
    }
   },
   "outputs": [],
   "source": [
    "app_change_groupby = app_change_timeperiod_groupby.groupBy(\"app_change.app_name\").agg(\n",
    "                        F.sum(\"seconds\").alias(\"total_time\"),\n",
    "                        F.sum(\"move_count\").alias(\"total_moves\"),\n",
    "                        F.sum(\"total_distance\").alias(\"total_distance\"),\n",
    "                        F.avg(\"moves_per_sec\").alias(\"moves_per_sec\"),\n",
    "                        F.avg(\"speed\").alias(\"speed\")\n",
    "\n",
    ")"
   ]
  },
  {
   "cell_type": "code",
   "execution_count": 0,
   "metadata": {
    "application/vnd.databricks.v1+cell": {
     "cellMetadata": {
      "byteLimit": 2048000,
      "rowLimit": 10000
     },
     "inputWidgets": {},
     "nuid": "ab35a289-8968-45d6-bbd5-a58df9fbb657",
     "showTitle": false,
     "tableResultSettingsMap": {},
     "title": ""
    }
   },
   "outputs": [],
   "source": [
    "app_change_groupby.show(truncate=False)"
   ]
  },
  {
   "cell_type": "markdown",
   "metadata": {
    "application/vnd.databricks.v1+cell": {
     "cellMetadata": {},
     "inputWidgets": {},
     "nuid": "695e7c6f-f59a-4d77-bbf6-d09dd954450a",
     "showTitle": false,
     "tableResultSettingsMap": {},
     "title": ""
    }
   },
   "source": [
    "## Then send the result to to a Table that can be read by a dashboard"
   ]
  },
  {
   "cell_type": "code",
   "execution_count": 0,
   "metadata": {
    "application/vnd.databricks.v1+cell": {
     "cellMetadata": {
      "byteLimit": 2048000,
      "rowLimit": 10000
     },
     "inputWidgets": {},
     "nuid": "2f42d7b6-e508-44ba-b458-2572ee57cce3",
     "showTitle": false,
     "tableResultSettingsMap": {},
     "title": ""
    }
   },
   "outputs": [],
   "source": [
    "result.write.format(\"delta\").option(\"overwriteSchema\", \"true\").mode(\"overwrite\").saveAsTable(\"mouse_activity_summary\")\n"
   ]
  }
 ],
 "metadata": {
  "application/vnd.databricks.v1+notebook": {
   "computePreferences": null,
   "dashboards": [],
   "environmentMetadata": {
    "base_environment": "",
    "client": "1"
   },
   "language": "python",
   "notebookMetadata": {
    "pythonIndentUnit": 4
   },
   "notebookName": "computer_activity",
   "widgets": {}
  },
  "language_info": {
   "name": "python"
  }
 },
 "nbformat": 4,
 "nbformat_minor": 0
}
